{
 "cells": [
  {
   "cell_type": "code",
   "execution_count": 16,
   "id": "0abe801c",
   "metadata": {},
   "outputs": [],
   "source": [
    "import numpy as np\n",
    "import tensorflow as tf\n",
    "\n",
    "import tensorflow.keras as keras\n",
    "from tensorflow.keras import layers\n",
    "from tensorflow.keras.models import Sequential\n",
    "from keras.preprocessing.image import ImageDataGenerator"
   ]
  },
  {
   "cell_type": "code",
   "execution_count": 17,
   "id": "2116aa8f",
   "metadata": {},
   "outputs": [
    {
     "data": {
      "text/plain": [
       "'2.11.0'"
      ]
     },
     "execution_count": 17,
     "metadata": {},
     "output_type": "execute_result"
    }
   ],
   "source": [
    "tf.__version__"
   ]
  },
  {
   "cell_type": "code",
   "execution_count": 18,
   "id": "833c874b",
   "metadata": {},
   "outputs": [],
   "source": [
    "img_height,img_width=180,180"
   ]
  },
  {
   "cell_type": "code",
   "execution_count": 19,
   "id": "5fd32482",
   "metadata": {},
   "outputs": [
    {
     "name": "stdout",
     "output_type": "stream",
     "text": [
      "Found 3460 images belonging to 5 classes.\n"
     ]
    }
   ],
   "source": [
    "train_datagen = ImageDataGenerator(\n",
    "        rescale=1./255,\n",
    "        shear_range=0.2,\n",
    "        zoom_range=0.2,\n",
    "        horizontal_flip=True)\n",
    "training_set = train_datagen.flow_from_directory(\n",
    "        'training_set',\n",
    "        target_size=(img_height, img_width),\n",
    "        batch_size=32,\n",
    "        class_mode='categorical')"
   ]
  },
  {
   "cell_type": "code",
   "execution_count": 20,
   "id": "010a174b",
   "metadata": {},
   "outputs": [
    {
     "name": "stdout",
     "output_type": "stream",
     "text": [
      "Found 857 images belonging to 5 classes.\n"
     ]
    }
   ],
   "source": [
    "test_datagen = ImageDataGenerator(rescale=1./255)\n",
    "test_set = test_datagen.flow_from_directory(\n",
    "        'test_set',\n",
    "        target_size=(img_height, img_width),\n",
    "        batch_size=32,\n",
    "        class_mode='categorical')"
   ]
  },
  {
   "cell_type": "code",
   "execution_count": 21,
   "id": "2bf251d2",
   "metadata": {},
   "outputs": [],
   "source": [
    "cnn = Sequential([\n",
    "  layers.Conv2D(64, 3, activation='relu', input_shape=[img_height, img_width,3]),\n",
    "  layers.MaxPool2D(pool_size=2,strides=2),\n",
    "  layers.Conv2D(64, 3, activation='relu'),\n",
    "  layers.MaxPooling2D(pool_size=2,strides=2),\n",
    "  layers.Dropout(0.5),\n",
    "  layers.Flatten(),\n",
    "  layers.Dense(128, activation='relu'),\n",
    "  layers.Dense(5,activation='softmax')\n",
    "])"
   ]
  },
  {
   "cell_type": "code",
   "execution_count": 22,
   "id": "28d04e8d",
   "metadata": {},
   "outputs": [],
   "source": [
    "cnn.compile(optimizer = 'rmsprop' , loss = 'categorical_crossentropy' , metrics = ['accuracy'])"
   ]
  },
  {
   "cell_type": "code",
   "execution_count": 23,
   "id": "dcf1710d",
   "metadata": {},
   "outputs": [
    {
     "name": "stdout",
     "output_type": "stream",
     "text": [
      "Epoch 1/20\n",
      "109/109 [==============================] - 120s 1s/step - loss: 1.5600 - accuracy: 0.4188 - val_loss: 1.1698 - val_accuracy: 0.5239\n",
      "Epoch 2/20\n",
      "109/109 [==============================] - 118s 1s/step - loss: 1.1083 - accuracy: 0.5665 - val_loss: 1.0707 - val_accuracy: 0.5659\n",
      "Epoch 3/20\n",
      "109/109 [==============================] - 118s 1s/step - loss: 1.0236 - accuracy: 0.6020 - val_loss: 0.9227 - val_accuracy: 0.6488\n",
      "Epoch 4/20\n",
      "109/109 [==============================] - 118s 1s/step - loss: 0.9274 - accuracy: 0.6454 - val_loss: 0.8407 - val_accuracy: 0.6686\n",
      "Epoch 5/20\n",
      "109/109 [==============================] - 116s 1s/step - loss: 0.8606 - accuracy: 0.6699 - val_loss: 0.8930 - val_accuracy: 0.6616\n",
      "Epoch 6/20\n",
      "109/109 [==============================] - 116s 1s/step - loss: 0.8090 - accuracy: 0.6977 - val_loss: 0.8052 - val_accuracy: 0.6989\n",
      "Epoch 7/20\n",
      "109/109 [==============================] - 117s 1s/step - loss: 0.7600 - accuracy: 0.7156 - val_loss: 0.8643 - val_accuracy: 0.6838\n",
      "Epoch 8/20\n",
      "109/109 [==============================] - 120s 1s/step - loss: 0.7099 - accuracy: 0.7275 - val_loss: 1.0090 - val_accuracy: 0.6441\n",
      "Epoch 9/20\n",
      "109/109 [==============================] - 126s 1s/step - loss: 0.6766 - accuracy: 0.7439 - val_loss: 0.9589 - val_accuracy: 0.6768\n",
      "Epoch 10/20\n",
      "109/109 [==============================] - 121s 1s/step - loss: 0.6194 - accuracy: 0.7682 - val_loss: 0.7835 - val_accuracy: 0.7200\n",
      "Epoch 11/20\n",
      "109/109 [==============================] - 116s 1s/step - loss: 0.5815 - accuracy: 0.7815 - val_loss: 0.8567 - val_accuracy: 0.7025\n",
      "Epoch 12/20\n",
      "109/109 [==============================] - 118s 1s/step - loss: 0.5394 - accuracy: 0.8009 - val_loss: 0.9520 - val_accuracy: 0.6966\n",
      "Epoch 13/20\n",
      "109/109 [==============================] - 116s 1s/step - loss: 0.5137 - accuracy: 0.8133 - val_loss: 0.9629 - val_accuracy: 0.6966\n",
      "Epoch 14/20\n",
      "109/109 [==============================] - 115s 1s/step - loss: 0.4826 - accuracy: 0.8228 - val_loss: 0.8544 - val_accuracy: 0.7270\n",
      "Epoch 15/20\n",
      "109/109 [==============================] - 117s 1s/step - loss: 0.4510 - accuracy: 0.8364 - val_loss: 1.0010 - val_accuracy: 0.6931\n",
      "Epoch 16/20\n",
      "109/109 [==============================] - 117s 1s/step - loss: 0.4220 - accuracy: 0.8448 - val_loss: 1.0182 - val_accuracy: 0.6931\n",
      "Epoch 17/20\n",
      "109/109 [==============================] - 116s 1s/step - loss: 0.4085 - accuracy: 0.8555 - val_loss: 0.9368 - val_accuracy: 0.7200\n",
      "Epoch 18/20\n",
      "109/109 [==============================] - 117s 1s/step - loss: 0.3803 - accuracy: 0.8645 - val_loss: 1.2299 - val_accuracy: 0.6604\n",
      "Epoch 19/20\n",
      "109/109 [==============================] - 119s 1s/step - loss: 0.3468 - accuracy: 0.8772 - val_loss: 1.2353 - val_accuracy: 0.6873\n",
      "Epoch 20/20\n",
      "109/109 [==============================] - 119s 1s/step - loss: 0.3326 - accuracy: 0.8847 - val_loss: 1.1414 - val_accuracy: 0.6651\n"
     ]
    },
    {
     "data": {
      "text/plain": [
       "<keras.callbacks.History at 0x1363575d9d0>"
      ]
     },
     "execution_count": 23,
     "metadata": {},
     "output_type": "execute_result"
    }
   ],
   "source": [
    "cnn.fit(x = training_set , validation_data = test_set , epochs = 20)"
   ]
  },
  {
   "cell_type": "code",
   "execution_count": 24,
   "id": "0a91abf0",
   "metadata": {},
   "outputs": [
    {
     "name": "stdout",
     "output_type": "stream",
     "text": [
      "Keras weights file (<HDF5 file \"variables.h5\" (mode r+)>) saving:\n",
      "...layers\\conv2d\n",
      "......vars\n",
      ".........0\n",
      ".........1\n",
      "...layers\\conv2d_1\n",
      "......vars\n",
      ".........0\n",
      ".........1\n",
      "...layers\\dense\n",
      "......vars\n",
      ".........0\n",
      ".........1\n",
      "...layers\\dense_1\n",
      "......vars\n",
      ".........0\n",
      ".........1\n",
      "...layers\\dropout\n",
      "......vars\n",
      "...layers\\flatten\n",
      "......vars\n",
      "...layers\\max_pooling2d\n",
      "......vars\n",
      "...layers\\max_pooling2d_1\n",
      "......vars\n",
      "...metrics\\mean\n",
      "......vars\n",
      ".........0\n",
      ".........1\n",
      "...metrics\\mean_metric_wrapper\n",
      "......vars\n",
      ".........0\n",
      ".........1\n",
      "...optimizer\n",
      "......vars\n",
      ".........0\n",
      ".........1\n",
      ".........2\n",
      ".........3\n",
      ".........4\n",
      ".........5\n",
      ".........6\n",
      ".........7\n",
      ".........8\n",
      "...vars\n",
      "Keras model archive saving:\n",
      "File Name                                             Modified             Size\n",
      "config.json                                    2022-12-06 00:53:04         3245\n",
      "metadata.json                                  2022-12-06 00:53:04           64\n",
      "variables.h5                                   2022-12-06 00:53:05    121522680\n"
     ]
    }
   ],
   "source": [
    "import pickle\n",
    "pickle.dump(cnn,open('model.pkl','wb'))"
   ]
  },
  {
   "cell_type": "code",
   "execution_count": 30,
   "id": "9a2ac7d1",
   "metadata": {},
   "outputs": [
    {
     "name": "stdout",
     "output_type": "stream",
     "text": [
      "1/1 [==============================] - 0s 21ms/step\n"
     ]
    },
    {
     "data": {
      "text/plain": [
       "{'daisy': 0, 'dandelion': 1, 'rose': 2, 'sunflower': 3, 'tulip': 4}"
      ]
     },
     "execution_count": 30,
     "metadata": {},
     "output_type": "execute_result"
    }
   ],
   "source": [
    "from tensorflow.keras.preprocessing import image\n",
    "test_image = image.load_img('Prediction/Screenshot 2022-11-27 154246.jpg',target_size=(img_height, img_width))\n",
    "test_image = image.img_to_array(test_image)\n",
    "test_image = np.expand_dims(test_image,axis=0)\n",
    "result = cnn.predict(test_image)\n",
    "training_set.class_indices"
   ]
  },
  {
   "cell_type": "code",
   "execution_count": 31,
   "id": "60180b14",
   "metadata": {},
   "outputs": [
    {
     "name": "stdout",
     "output_type": "stream",
     "text": [
      "Daisy\n"
     ]
    }
   ],
   "source": [
    "if result[0]==1:\n",
    "    print('Daisy')\n",
    "elif result[1]==1:\n",
    "    print('Dandelion')\n",
    "elif result[2]==1:\n",
    "    print('Rose')\n",
    "elif result[3]==1:\n",
    "    print('SunFlower')\n",
    "elif result[4]==1:\n",
    "    print(\"Tulip\")"
   ]
  },
  {
   "cell_type": "code",
   "execution_count": 32,
   "id": "c3e016f4",
   "metadata": {},
   "outputs": [
    {
     "name": "stdout",
     "output_type": "stream",
     "text": [
      "[[1. 0. 0. 0. 0.]]\n"
     ]
    }
   ],
   "source": [
    "print(result)"
   ]
  },
  {
   "cell_type": "code",
   "execution_count": 25,
   "id": "dd39b38f",
   "metadata": {},
   "outputs": [
    {
     "name": "stdout",
     "output_type": "stream",
     "text": [
      "Keras model archive loading:\n",
      "File Name                                             Modified             Size\n",
      "config.json                                    2022-12-06 00:53:04         3245\n",
      "metadata.json                                  2022-12-06 00:53:04           64\n",
      "variables.h5                                   2022-12-06 00:53:04    121522680\n",
      "Keras weights file (<HDF5 file \"variables.h5\" (mode r)>) loading:\n",
      "...layers\\conv2d\n",
      "......vars\n",
      ".........0\n",
      ".........1\n",
      "...layers\\conv2d_1\n",
      "......vars\n",
      ".........0\n",
      ".........1\n",
      "...layers\\dense\n",
      "......vars\n",
      ".........0\n",
      ".........1\n",
      "...layers\\dense_1\n",
      "......vars\n",
      ".........0\n",
      ".........1\n",
      "...layers\\dropout\n",
      "......vars\n",
      "...layers\\flatten\n",
      "......vars\n",
      "...layers\\max_pooling2d\n",
      "......vars\n",
      "...layers\\max_pooling2d_1\n",
      "......vars\n",
      "...metrics\\mean\n",
      "......vars\n",
      ".........0\n",
      ".........1\n",
      "...metrics\\mean_metric_wrapper\n",
      "......vars\n",
      ".........0\n",
      ".........1\n",
      "...optimizer\n",
      "......vars\n",
      ".........0\n",
      ".........1\n",
      ".........2\n",
      ".........3\n",
      ".........4\n",
      ".........5\n",
      ".........6\n",
      ".........7\n",
      ".........8\n",
      "...vars\n"
     ]
    }
   ],
   "source": [
    "xyz = pickle.load(open('model.pkl','rb'))"
   ]
  },
  {
   "cell_type": "code",
   "execution_count": 26,
   "id": "6c6faf0e",
   "metadata": {},
   "outputs": [
    {
     "name": "stdout",
     "output_type": "stream",
     "text": [
      "1/1 [==============================] - 0s 161ms/step\n"
     ]
    },
    {
     "data": {
      "text/plain": [
       "{'daisy': 0, 'dandelion': 1, 'rose': 2, 'sunflower': 3, 'tulip': 4}"
      ]
     },
     "execution_count": 26,
     "metadata": {},
     "output_type": "execute_result"
    }
   ],
   "source": [
    "from tensorflow.keras.preprocessing import image\n",
    "test_image = image.load_img('Prediction/Screenshot 2022-11-27 154246.jpg',target_size=(img_height, img_width))\n",
    "test_image = image.img_to_array(test_image)\n",
    "test_image = np.expand_dims(test_image,axis=0)\n",
    "\n",
    "result = xyz.predict(test_image)\n",
    "training_set.class_indices"
   ]
  },
  {
   "cell_type": "code",
   "execution_count": 27,
   "id": "5559260f",
   "metadata": {},
   "outputs": [
    {
     "name": "stdout",
     "output_type": "stream",
     "text": [
      "Rose\n"
     ]
    }
   ],
   "source": [
    "if result[0][0]==1:\n",
    "    print('Daisy')\n",
    "elif result[0][1]==1:\n",
    "    print('Dandelion')\n",
    "elif result[0][2]==1:\n",
    "    print('Rose')\n",
    "elif result[0][3]==1:\n",
    "    print('SunFlower')\n",
    "elif result[0][4]==1:\n",
    "    print(\"Tulip\")"
   ]
  },
  {
   "cell_type": "code",
   "execution_count": null,
   "id": "60a79f87",
   "metadata": {},
   "outputs": [],
   "source": [
    "\n"
   ]
  }
 ],
 "metadata": {
  "kernelspec": {
   "display_name": "Python 3",
   "language": "python",
   "name": "python3"
  },
  "language_info": {
   "codemirror_mode": {
    "name": "ipython",
    "version": 3
   },
   "file_extension": ".py",
   "mimetype": "text/x-python",
   "name": "python",
   "nbconvert_exporter": "python",
   "pygments_lexer": "ipython3",
   "version": "3.8.8"
  }
 },
 "nbformat": 4,
 "nbformat_minor": 5
}
